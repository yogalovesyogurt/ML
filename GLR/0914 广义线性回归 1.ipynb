{
 "cells": [
  {
   "cell_type": "code",
   "execution_count": 184,
   "metadata": {},
   "outputs": [],
   "source": [
    "import numpy as np\n",
    "import pandas as pd\n",
    "import xlrd\n",
    "import math"
   ]
  },
  {
   "cell_type": "code",
   "execution_count": 197,
   "metadata": {},
   "outputs": [
    {
     "data": {
      "text/plain": [
       "0.04006014215700753"
      ]
     },
     "execution_count": 197,
     "metadata": {},
     "output_type": "execute_result"
    }
   ],
   "source": [
    "# logistic\n",
    "data_l = xlrd.open_workbook('D:/Major/SQP/9.15/1/house_data.xlsx')\n",
    "table_l = data_l.sheet_by_name(u'Sheet1')\n",
    "coln = table_l.ncols\n",
    "rown = table_l.nrows\n",
    "data_xy = np.zeros((rown,coln) )\n",
    "for i in range(coln):\n",
    "    data_xy[:,i] = table_l.col_values(i)\n",
    "    \n",
    "n = 3000\n",
    "y = data_xy[0:n,14]\n",
    "x = data_xy[0:n,0:14]\n",
    "one = np.ones(n)\n",
    "x = np.c_[x,one]\n",
    "beta = np.array([0.005,0.001,-0.006,0,0.3,0.08,0,0,-0.007,0,0.01,0,0.01,0.03,-1.8])\n",
    "dis = 1000\n",
    "while dis > 1e-5:\n",
    "    alpha = beta\n",
    "    for i in range(n):\n",
    "        I = np.zeros(15)\n",
    "        I_d = np.zeros(15)\n",
    "        I = I + (y[i]-n*np.exp(np.dot(beta,x[i,:]))/(np.exp(np.dot(beta,x[i,:]))+1))*x[i,:]\n",
    "        I_d = I_d - n*np.exp(np.dot(beta,x[i,:]))/np.square(np.exp(np.dot(beta,x[i,:])))*(np.dot(x[i,:],x[i,:]))\n",
    "    beta = alpha - I/I_d\n",
    "    dis = np.linalg.norm(beta-alpha)\n",
    "    \n",
    "ones = np.ones(2000)\n",
    "y_2 = data_xy[n+1:n+2001,14]\n",
    "x_2 = data_xy[n+1:n+2001,0:14]\n",
    "x_2 = np.c_[x_2,ones]\n",
    "y_test = np.dot(beta,x_2.T)\n",
    "dist = np.linalg.norm(y_2-y_test)/2000\n",
    "dist"
   ]
  },
  {
   "cell_type": "code",
   "execution_count": 208,
   "metadata": {},
   "outputs": [
    {
     "data": {
      "text/plain": [
       "31.407237691069156"
      ]
     },
     "execution_count": 208,
     "metadata": {},
     "output_type": "execute_result"
    }
   ],
   "source": [
    "# possion\n",
    "data_p = xlrd.open_workbook('D:/Major/SQP/9.15/1/bres.xlsx')\n",
    "table_p = data_p.sheet_by_name(u'bres')\n",
    "coln_p = table_p.ncols\n",
    "rown_p = table_p.nrows\n",
    "data_xyp = np.zeros((rown_p,coln_p) )\n",
    "for i in range(coln_p):\n",
    "    data_xyp[:,i] = table_p.col_values(i)\n",
    "    \n",
    "n = 40\n",
    "y_p = data_xyp[0:n,3]\n",
    "x_p = data_xyp[0:n,0:3]\n",
    "one_p = np.ones(n)\n",
    "x_p = np.c_[x_p,one_p]\n",
    "beta = np.array([0,0,-0.15,1.9])\n",
    "dis = 1000\n",
    "t = 0\n",
    "while dis > 1e-10:\n",
    "    alpha = beta\n",
    "    for i in range(n):\n",
    "        I = np.zeros(4)\n",
    "        I_d = np.zeros(4)\n",
    "        I = I + (y_p[i]-np.exp(np.dot(beta,x_p[i,:])))*x_p[i,:]\n",
    "        I_d = I_d - np.exp(np.dot(beta,x_p[i,:]))*(np.dot(x_p[i,:],x_p[i,:]))\n",
    "    beta = alpha - I/I_d\n",
    "    dis = np.linalg.norm(beta-alpha)\n",
    "ones = np.ones(10)\n",
    "y_2 = data_xyp[n+1:n+11,3]\n",
    "x_2 = data_xyp[n+1:n+11,0:3]\n",
    "x_2 = np.c_[x_2,ones]\n",
    "y_test = np.dot(beta,x_2.T)\n",
    "dist_p = np.linalg.norm(y_2-y_test)/10\n",
    "dist_p\n",
    "        \n"
   ]
  },
  {
   "cell_type": "code",
   "execution_count": 217,
   "metadata": {},
   "outputs": [
    {
     "data": {
      "text/plain": [
       "2.375185077878542"
      ]
     },
     "execution_count": 217,
     "metadata": {},
     "output_type": "execute_result"
    }
   ],
   "source": [
    "# gamma\n",
    "data_g = xlrd.open_workbook('D:/Major/SQP/9.15/1/gamma.xlsx')\n",
    "table_g = data_g.sheet_by_name(u'gamma')\n",
    "coln_g = table_g.ncols\n",
    "rown_g = table_g.nrows\n",
    "data_xyg = np.zeros((rown_g,coln_g) )\n",
    "for i in range(coln_g):\n",
    "    data_xyg[:,i] = table_g.col_values(i)\n",
    "    \n",
    "n = 80\n",
    "y_g = data_xyg[0:n,2]\n",
    "x_g = data_xyg[0:n,0:2]\n",
    "one_g = np.ones(n)\n",
    "x_g = np.c_[x_g,one_g]\n",
    "beta = np.array([0,0,0.05])\n",
    "dis = 1000\n",
    "r = 10\n",
    "while dis > 1e-10:\n",
    "    alpha = beta\n",
    "    for i in range(n):\n",
    "        I = np.zeros(3)\n",
    "        I_d = np.zeros(3)\n",
    "        I = I + (y_g[i]+r/np.dot(beta,x_g[i,:]))*x_g[i,:]\n",
    "        I_d = I_d + r/np.square(np.dot(beta,x_g[i,:]))*(np.dot(x_g[i,:],x_g[i,:]))\n",
    "    beta = alpha - I/I_d\n",
    "    dis = np.linalg.norm(beta-alpha)\n",
    "    \n",
    "ones = np.ones(20)\n",
    "y_2 = data_xyg[n:n+20,2]\n",
    "x_2 = data_xyg[n:n+20,0:2]\n",
    "x_2 = np.c_[x_2,ones]\n",
    "y_test = np.dot(beta,x_2.T)\n",
    "dist_g = np.linalg.norm(y_2-y_test)/20\n",
    "dist_g\n"
   ]
  },
  {
   "cell_type": "code",
   "execution_count": 214,
   "metadata": {},
   "outputs": [
    {
     "data": {
      "text/plain": [
       "(100, 3)"
      ]
     },
     "execution_count": 214,
     "metadata": {},
     "output_type": "execute_result"
    }
   ],
   "source": [
    "np.shape(data_xyg)"
   ]
  },
  {
   "cell_type": "code",
   "execution_count": 157,
   "metadata": {},
   "outputs": [
    {
     "data": {
      "text/plain": [
       "6254.636102379203"
      ]
     },
     "execution_count": 157,
     "metadata": {},
     "output_type": "execute_result"
    }
   ],
   "source": []
  },
  {
   "cell_type": "code",
   "execution_count": null,
   "metadata": {},
   "outputs": [],
   "source": []
  }
 ],
 "metadata": {
  "kernelspec": {
   "display_name": "Python 3",
   "language": "python",
   "name": "python3"
  },
  "language_info": {
   "codemirror_mode": {
    "name": "ipython",
    "version": 3
   },
   "file_extension": ".py",
   "mimetype": "text/x-python",
   "name": "python",
   "nbconvert_exporter": "python",
   "pygments_lexer": "ipython3",
   "version": "3.7.3"
  }
 },
 "nbformat": 4,
 "nbformat_minor": 2
}
